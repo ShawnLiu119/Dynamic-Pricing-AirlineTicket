{
  "nbformat": 4,
  "nbformat_minor": 0,
  "metadata": {
    "colab": {
      "provenance": [],
      "authorship_tag": "ABX9TyMgVxxGra79trkg4htVKhGz",
      "include_colab_link": true
    },
    "kernelspec": {
      "name": "python3",
      "display_name": "Python 3"
    },
    "language_info": {
      "name": "python"
    }
  },
  "cells": [
    {
      "cell_type": "markdown",
      "metadata": {
        "id": "view-in-github",
        "colab_type": "text"
      },
      "source": [
        "<a href=\"https://colab.research.google.com/github/ShawnLiu119/DynamicPricing_RideShare/blob/main/DynamicPricing_RideShare.ipynb\" target=\"_parent\"><img src=\"https://colab.research.google.com/assets/colab-badge.svg\" alt=\"Open In Colab\"/></a>"
      ]
    },
    {
      "cell_type": "markdown",
      "source": [
        "# **Dynamic Pricing - Ride Share data"
      ],
      "metadata": {
        "id": "mJyqqaHG1rnP"
      }
    },
    {
      "cell_type": "markdown",
      "source": [
        "### **business problem**: The traditional pricing model used by the business is based on fixed rates per kilometre, which does not account for fluctuations in supply and demand\n",
        "\n",
        "### **Goal**: leverage data science techniques to analyze various factors such as historical trip data, real-time demand, traffic patterns, and events happening in the area to maixmize revenue and profitability\n",
        "\n",
        "### potential data categories to consider:\n",
        "\n",
        "*   historical sales data\n",
        "*   customer purchase patterns\n",
        "*   market demand forecast\n",
        "*   cost data\n",
        "*   customer segmentation data\n",
        "*   real time market data\n",
        "\n"
      ],
      "metadata": {
        "id": "oaDLgmVR18wb"
      }
    },
    {
      "cell_type": "code",
      "source": [
        "import pandas as pd\n",
        "import plotly.express as px\n",
        "import plotly.graph_objects as go"
      ],
      "metadata": {
        "id": "zTQbrJAk1xnR"
      },
      "execution_count": 2,
      "outputs": []
    },
    {
      "cell_type": "code",
      "source": [
        "from google.colab import drive\n",
        "drive.mount('/content/drive')"
      ],
      "metadata": {
        "colab": {
          "base_uri": "https://localhost:8080/"
        },
        "id": "UQ6ZmUKr2y-L",
        "outputId": "0a77cdda-7867-4894-b5c1-763dafb91b95"
      },
      "execution_count": 3,
      "outputs": [
        {
          "output_type": "stream",
          "name": "stdout",
          "text": [
            "Mounted at /content/drive\n"
          ]
        }
      ]
    },
    {
      "cell_type": "code",
      "source": [
        "folder = /content/drive/MyDrive/kaggle_data/rideshare"
      ],
      "metadata": {
        "id": "EZu7SZoq26L3"
      },
      "execution_count": null,
      "outputs": []
    }
  ]
}